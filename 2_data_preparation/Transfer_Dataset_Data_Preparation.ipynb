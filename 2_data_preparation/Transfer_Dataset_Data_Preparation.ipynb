{
 "cells": [
  {
   "cell_type": "markdown",
   "metadata": {
    "id": "iEN14uRID9XL"
   },
   "source": [
    "# **Data Cleaning and Preperation Script for \"Transfer_Dataset.raw.csv\" dataset.**"
   ]
  },
  {
   "cell_type": "code",
   "execution_count": 4,
   "metadata": {
    "id": "uOg3Jbf57xjr"
   },
   "outputs": [],
   "source": [
    "import numpy as np\n",
    "import pandas as pd\n",
    "\n",
    "# Load Data\n",
    "df = pd.read_csv(\"C:/Users/User/ET6-CDSP-group-23-repo/1_datasets/Transfer_Dataset.raw.csv\")"
   ]
  },
  {
   "cell_type": "markdown",
   "metadata": {
    "id": "xKzxI1oFKSZD"
   },
   "source": [
    "##✅ Understand the Data"
   ]
  },
  {
   "cell_type": "code",
   "execution_count": 5,
   "metadata": {
    "colab": {
     "base_uri": "https://localhost:8080/",
     "height": 310
    },
    "id": "4t5x5K94FGtN",
    "outputId": "63bb752d-ff0d-495b-8a40-8cd6d8d89083"
   },
   "outputs": [
    {
     "data": {
      "text/html": [
       "<div>\n",
       "<style scoped>\n",
       "    .dataframe tbody tr th:only-of-type {\n",
       "        vertical-align: middle;\n",
       "    }\n",
       "\n",
       "    .dataframe tbody tr th {\n",
       "        vertical-align: top;\n",
       "    }\n",
       "\n",
       "    .dataframe thead th {\n",
       "        text-align: right;\n",
       "    }\n",
       "</style>\n",
       "<table border=\"1\" class=\"dataframe\">\n",
       "  <thead>\n",
       "    <tr style=\"text-align: right;\">\n",
       "      <th></th>\n",
       "      <th>Player Name</th>\n",
       "      <th>Transfer Fee</th>\n",
       "      <th>Season</th>\n",
       "      <th>From (Club)</th>\n",
       "      <th>To (Club)</th>\n",
       "      <th>From (League)</th>\n",
       "      <th>To (League)</th>\n",
       "      <th>Position</th>\n",
       "    </tr>\n",
       "  </thead>\n",
       "  <tbody>\n",
       "    <tr>\n",
       "      <th>0</th>\n",
       "      <td>Krystian Bielik</td>\n",
       "      <td>2.25</td>\n",
       "      <td>2014-2015</td>\n",
       "      <td>Legia Warszawa</td>\n",
       "      <td>Arsenal FC</td>\n",
       "      <td>Ekstraklasa</td>\n",
       "      <td>Premier League</td>\n",
       "      <td>Centre-Back</td>\n",
       "    </tr>\n",
       "    <tr>\n",
       "      <th>1</th>\n",
       "      <td>Dame NDoye</td>\n",
       "      <td>3.96</td>\n",
       "      <td>2014-2015</td>\n",
       "      <td>Loko Moskau</td>\n",
       "      <td>Hull City</td>\n",
       "      <td>Russian Premier League</td>\n",
       "      <td>Premier League</td>\n",
       "      <td>Centre-Forward</td>\n",
       "    </tr>\n",
       "    <tr>\n",
       "      <th>2</th>\n",
       "      <td>Andrew Robertson</td>\n",
       "      <td>3.6</td>\n",
       "      <td>2014-2015</td>\n",
       "      <td>Dundee United</td>\n",
       "      <td>Hull City</td>\n",
       "      <td>Scottish Premiership</td>\n",
       "      <td>Premier League</td>\n",
       "      <td>Left-Back</td>\n",
       "    </tr>\n",
       "    <tr>\n",
       "      <th>3</th>\n",
       "      <td>Harry Maguire</td>\n",
       "      <td>3.15</td>\n",
       "      <td>2014-2015</td>\n",
       "      <td>Sheff Utd</td>\n",
       "      <td>Hull City</td>\n",
       "      <td>Championship</td>\n",
       "      <td>Premier League</td>\n",
       "      <td>Centre-Back</td>\n",
       "    </tr>\n",
       "    <tr>\n",
       "      <th>4</th>\n",
       "      <td>Brian Lenihan</td>\n",
       "      <td>0.26</td>\n",
       "      <td>2014-2015</td>\n",
       "      <td>Cork City</td>\n",
       "      <td>Hull City</td>\n",
       "      <td>League of Ireland</td>\n",
       "      <td>Premier League</td>\n",
       "      <td>Right-Back</td>\n",
       "    </tr>\n",
       "  </tbody>\n",
       "</table>\n",
       "</div>"
      ],
      "text/plain": [
       "        Player Name Transfer Fee     Season     From (Club)   To (Club)  \\\n",
       "0   Krystian Bielik         2.25  2014-2015  Legia Warszawa  Arsenal FC   \n",
       "1        Dame NDoye         3.96  2014-2015     Loko Moskau   Hull City   \n",
       "2  Andrew Robertson          3.6  2014-2015   Dundee United   Hull City   \n",
       "3     Harry Maguire         3.15  2014-2015       Sheff Utd   Hull City   \n",
       "4     Brian Lenihan         0.26  2014-2015       Cork City   Hull City   \n",
       "\n",
       "            From (League)     To (League)        Position  \n",
       "0             Ekstraklasa  Premier League     Centre-Back  \n",
       "1  Russian Premier League  Premier League  Centre-Forward  \n",
       "2    Scottish Premiership  Premier League       Left-Back  \n",
       "3            Championship  Premier League     Centre-Back  \n",
       "4       League of Ireland  Premier League      Right-Back  "
      ]
     },
     "execution_count": 5,
     "metadata": {},
     "output_type": "execute_result"
    }
   ],
   "source": [
    "df.head()"
   ]
  },
  {
   "cell_type": "code",
   "execution_count": 6,
   "metadata": {
    "colab": {
     "base_uri": "https://localhost:8080/"
    },
    "id": "Ggyk1z_uMJsk",
    "outputId": "a47649d4-b1f6-414b-9b47-89741562da84"
   },
   "outputs": [
    {
     "name": "stdout",
     "output_type": "stream",
     "text": [
      "<class 'pandas.core.frame.DataFrame'>\n",
      "RangeIndex: 489 entries, 0 to 488\n",
      "Data columns (total 8 columns):\n",
      " #   Column         Non-Null Count  Dtype \n",
      "---  ------         --------------  ----- \n",
      " 0   Player Name    489 non-null    object\n",
      " 1   Transfer Fee   489 non-null    object\n",
      " 2   Season         489 non-null    object\n",
      " 3   From (Club)    489 non-null    object\n",
      " 4   To (Club)      489 non-null    object\n",
      " 5   From (League)  475 non-null    object\n",
      " 6   To (League)    489 non-null    object\n",
      " 7   Position       489 non-null    object\n",
      "dtypes: object(8)\n",
      "memory usage: 30.7+ KB\n"
     ]
    }
   ],
   "source": [
    "df.info()"
   ]
  },
  {
   "cell_type": "code",
   "execution_count": 7,
   "metadata": {
    "colab": {
     "base_uri": "https://localhost:8080/",
     "height": 175
    },
    "id": "h8UoNZfpMSDn",
    "outputId": "6e32ea0d-c8a8-4827-9e81-f43a5eca5fa9"
   },
   "outputs": [
    {
     "data": {
      "text/html": [
       "<div>\n",
       "<style scoped>\n",
       "    .dataframe tbody tr th:only-of-type {\n",
       "        vertical-align: middle;\n",
       "    }\n",
       "\n",
       "    .dataframe tbody tr th {\n",
       "        vertical-align: top;\n",
       "    }\n",
       "\n",
       "    .dataframe thead th {\n",
       "        text-align: right;\n",
       "    }\n",
       "</style>\n",
       "<table border=\"1\" class=\"dataframe\">\n",
       "  <thead>\n",
       "    <tr style=\"text-align: right;\">\n",
       "      <th></th>\n",
       "      <th>Player Name</th>\n",
       "      <th>Transfer Fee</th>\n",
       "      <th>Season</th>\n",
       "      <th>From (Club)</th>\n",
       "      <th>To (Club)</th>\n",
       "      <th>From (League)</th>\n",
       "      <th>To (League)</th>\n",
       "      <th>Position</th>\n",
       "    </tr>\n",
       "  </thead>\n",
       "  <tbody>\n",
       "    <tr>\n",
       "      <th>count</th>\n",
       "      <td>489</td>\n",
       "      <td>489</td>\n",
       "      <td>489</td>\n",
       "      <td>489</td>\n",
       "      <td>489</td>\n",
       "      <td>475</td>\n",
       "      <td>489</td>\n",
       "      <td>489</td>\n",
       "    </tr>\n",
       "    <tr>\n",
       "      <th>unique</th>\n",
       "      <td>474</td>\n",
       "      <td>253</td>\n",
       "      <td>10</td>\n",
       "      <td>239</td>\n",
       "      <td>47</td>\n",
       "      <td>91</td>\n",
       "      <td>1</td>\n",
       "      <td>14</td>\n",
       "    </tr>\n",
       "    <tr>\n",
       "      <th>top</th>\n",
       "      <td>Alfie Mawson</td>\n",
       "      <td>0</td>\n",
       "      <td>2022/23</td>\n",
       "      <td>FC Porto</td>\n",
       "      <td>Manchester City</td>\n",
       "      <td>Championship</td>\n",
       "      <td>Premier League</td>\n",
       "      <td>Centre-Forward</td>\n",
       "    </tr>\n",
       "    <tr>\n",
       "      <th>freq</th>\n",
       "      <td>2</td>\n",
       "      <td>61</td>\n",
       "      <td>77</td>\n",
       "      <td>14</td>\n",
       "      <td>35</td>\n",
       "      <td>116</td>\n",
       "      <td>489</td>\n",
       "      <td>91</td>\n",
       "    </tr>\n",
       "  </tbody>\n",
       "</table>\n",
       "</div>"
      ],
      "text/plain": [
       "         Player Name Transfer Fee   Season From (Club)        To (Club)  \\\n",
       "count            489          489      489         489              489   \n",
       "unique           474          253       10         239               47   \n",
       "top     Alfie Mawson            0  2022/23    FC Porto  Manchester City   \n",
       "freq               2           61       77          14               35   \n",
       "\n",
       "       From (League)     To (League)        Position  \n",
       "count            475             489             489  \n",
       "unique            91               1              14  \n",
       "top     Championship  Premier League  Centre-Forward  \n",
       "freq             116             489              91  "
      ]
     },
     "execution_count": 7,
     "metadata": {},
     "output_type": "execute_result"
    }
   ],
   "source": [
    "df.describe()"
   ]
  },
  {
   "cell_type": "markdown",
   "metadata": {
    "id": "gIDcst_hKcwh"
   },
   "source": [
    "##🪓 Exclude unwanted entries"
   ]
  },
  {
   "cell_type": "code",
   "execution_count": 8,
   "metadata": {
    "colab": {
     "base_uri": "https://localhost:8080/",
     "height": 414
    },
    "id": "uunE8Itr8E2y",
    "outputId": "fa765ecc-5ebb-4bb6-a37a-4b7fc1c67386"
   },
   "outputs": [
    {
     "name": "stdout",
     "output_type": "stream",
     "text": [
      "\n",
      "DataFrame shape after filtering (Season >= '2018/2019'): (246, 8)\n",
      "Unique seasons after filtering:\n",
      "['2018/2019' '2019-2020' '2020-2021' '2021-2022' '2022/23']\n",
      "\n",
      "First 5 rows of the filtered DataFrame:\n"
     ]
    },
    {
     "data": {
      "text/html": [
       "<div>\n",
       "<style scoped>\n",
       "    .dataframe tbody tr th:only-of-type {\n",
       "        vertical-align: middle;\n",
       "    }\n",
       "\n",
       "    .dataframe tbody tr th {\n",
       "        vertical-align: top;\n",
       "    }\n",
       "\n",
       "    .dataframe thead th {\n",
       "        text-align: right;\n",
       "    }\n",
       "</style>\n",
       "<table border=\"1\" class=\"dataframe\">\n",
       "  <thead>\n",
       "    <tr style=\"text-align: right;\">\n",
       "      <th></th>\n",
       "      <th>Player Name</th>\n",
       "      <th>Transfer Fee</th>\n",
       "      <th>Season</th>\n",
       "      <th>From (Club)</th>\n",
       "      <th>To (Club)</th>\n",
       "      <th>From (League)</th>\n",
       "      <th>To (League)</th>\n",
       "      <th>Position</th>\n",
       "    </tr>\n",
       "  </thead>\n",
       "  <tbody>\n",
       "    <tr>\n",
       "      <th>189</th>\n",
       "      <td>Ante Palaversa</td>\n",
       "      <td>6.3</td>\n",
       "      <td>2018/2019</td>\n",
       "      <td>Hajduk Split</td>\n",
       "      <td>Manchester City</td>\n",
       "      <td>Croatian First League</td>\n",
       "      <td>Premier League</td>\n",
       "      <td>Defensive Midfield</td>\n",
       "    </tr>\n",
       "    <tr>\n",
       "      <th>190</th>\n",
       "      <td>Philippe Sandler</td>\n",
       "      <td>2.5</td>\n",
       "      <td>2018/2019</td>\n",
       "      <td>PEC Zwolle</td>\n",
       "      <td>Manchester City</td>\n",
       "      <td>Eredivisie</td>\n",
       "      <td>Premier League</td>\n",
       "      <td>Centre-Back</td>\n",
       "    </tr>\n",
       "    <tr>\n",
       "      <th>191</th>\n",
       "      <td>Ko Itakura</td>\n",
       "      <td>1.1</td>\n",
       "      <td>2018/2019</td>\n",
       "      <td>Kawasaki Front.</td>\n",
       "      <td>Manchester City</td>\n",
       "      <td>J1 League</td>\n",
       "      <td>Premier League</td>\n",
       "      <td>Centre-Back</td>\n",
       "    </tr>\n",
       "    <tr>\n",
       "      <th>192</th>\n",
       "      <td>Daniel Arzani</td>\n",
       "      <td>0.89</td>\n",
       "      <td>2018/2019</td>\n",
       "      <td>Melbourne City</td>\n",
       "      <td>Manchester City</td>\n",
       "      <td>A-League</td>\n",
       "      <td>Premier League</td>\n",
       "      <td>Right Winger</td>\n",
       "    </tr>\n",
       "    <tr>\n",
       "      <th>193</th>\n",
       "      <td>Fred</td>\n",
       "      <td>59</td>\n",
       "      <td>2018/2019</td>\n",
       "      <td>Shakhtar D.</td>\n",
       "      <td>Manchester United</td>\n",
       "      <td>Ukrainian Premier League</td>\n",
       "      <td>Premier League</td>\n",
       "      <td>Central Midfield</td>\n",
       "    </tr>\n",
       "  </tbody>\n",
       "</table>\n",
       "</div>"
      ],
      "text/plain": [
       "          Player Name Transfer Fee     Season      From (Club)  \\\n",
       "189    Ante Palaversa          6.3  2018/2019     Hajduk Split   \n",
       "190  Philippe Sandler          2.5  2018/2019       PEC Zwolle   \n",
       "191        Ko Itakura          1.1  2018/2019  Kawasaki Front.   \n",
       "192     Daniel Arzani         0.89  2018/2019   Melbourne City   \n",
       "193              Fred           59  2018/2019      Shakhtar D.   \n",
       "\n",
       "             To (Club)             From (League)     To (League)  \\\n",
       "189    Manchester City     Croatian First League  Premier League   \n",
       "190    Manchester City                Eredivisie  Premier League   \n",
       "191    Manchester City                 J1 League  Premier League   \n",
       "192    Manchester City                  A-League  Premier League   \n",
       "193  Manchester United  Ukrainian Premier League  Premier League   \n",
       "\n",
       "               Position  \n",
       "189  Defensive Midfield  \n",
       "190         Centre-Back  \n",
       "191         Centre-Back  \n",
       "192        Right Winger  \n",
       "193    Central Midfield  "
      ]
     },
     "execution_count": 8,
     "metadata": {},
     "output_type": "execute_result"
    }
   ],
   "source": [
    "# Exclude seasons before 2018-2019 season\n",
    "\n",
    "df_filtered = df[\n",
    "    df[\"Season\"] >= \"2018/2019\"\n",
    "].copy()  # .copy() to avoid SettingWithCopyWarning\n",
    "\n",
    "print(f\"\\nDataFrame shape after filtering (Season >= '2018/2019'): {df_filtered.shape}\")\n",
    "print(\"Unique seasons after filtering:\")\n",
    "print(df_filtered[\"Season\"].unique())\n",
    "\n",
    "# Verify some rows\n",
    "print(\"\\nFirst 5 rows of the filtered DataFrame:\")\n",
    "df_filtered.head()"
   ]
  },
  {
   "cell_type": "markdown",
   "metadata": {
    "id": "kGu4fYAsJxLP"
   },
   "source": [
    "##🧹 Handle Missing Values"
   ]
  },
  {
   "cell_type": "code",
   "execution_count": 9,
   "metadata": {
    "colab": {
     "base_uri": "https://localhost:8080/",
     "height": 335
    },
    "id": "IvdjHDz684tT",
    "outputId": "6ecdc6bc-a7f5-4389-eae3-5935b8421153"
   },
   "outputs": [
    {
     "data": {
      "text/plain": [
       "Player Name      0\n",
       "Transfer Fee     0\n",
       "Season           0\n",
       "From (Club)      0\n",
       "To (Club)        0\n",
       "From (League)    5\n",
       "To (League)      0\n",
       "Position         0\n",
       "dtype: int64"
      ]
     },
     "execution_count": 9,
     "metadata": {},
     "output_type": "execute_result"
    }
   ],
   "source": [
    "# Check for missing Values\n",
    "df_filtered.isnull().sum()"
   ]
  },
  {
   "cell_type": "code",
   "execution_count": 10,
   "metadata": {
    "id": "kSzqNg_U_nAW"
   },
   "outputs": [],
   "source": [
    "# Treat \"-\" as NaN\n",
    "df_filtered.replace(\"-\", np.nan, inplace=True)"
   ]
  },
  {
   "cell_type": "code",
   "execution_count": 11,
   "metadata": {
    "id": "vpxv2sgC9XFe"
   },
   "outputs": [],
   "source": [
    "# Drop NULL entries\n",
    "df_filtered.dropna(how=\"any\", inplace=True)"
   ]
  },
  {
   "cell_type": "code",
   "execution_count": 12,
   "metadata": {
    "colab": {
     "base_uri": "https://localhost:8080/",
     "height": 335
    },
    "id": "nBnj3HHR-WN0",
    "outputId": "df5edf2c-3343-4680-a640-5cad6966c52b"
   },
   "outputs": [
    {
     "data": {
      "text/plain": [
       "Player Name      0\n",
       "Transfer Fee     0\n",
       "Season           0\n",
       "From (Club)      0\n",
       "To (Club)        0\n",
       "From (League)    0\n",
       "To (League)      0\n",
       "Position         0\n",
       "dtype: int64"
      ]
     },
     "execution_count": 12,
     "metadata": {},
     "output_type": "execute_result"
    }
   ],
   "source": [
    "# Recheck for missing Values\n",
    "df_filtered.isnull().sum()"
   ]
  },
  {
   "cell_type": "markdown",
   "metadata": {
    "id": "OQOQes6iKALl"
   },
   "source": [
    "## 🧼Fix Data Types"
   ]
  },
  {
   "cell_type": "code",
   "execution_count": 13,
   "metadata": {
    "colab": {
     "base_uri": "https://localhost:8080/",
     "height": 210
    },
    "id": "bszy7sAkDExl",
    "outputId": "3c589d5b-463c-456f-9410-32973c529e6d"
   },
   "outputs": [
    {
     "data": {
      "text/plain": [
       "count     238\n",
       "unique    141\n",
       "top         0\n",
       "freq       37\n",
       "Name: Transfer Fee, dtype: object"
      ]
     },
     "execution_count": 13,
     "metadata": {},
     "output_type": "execute_result"
    }
   ],
   "source": [
    "# Check Statistical Summery for the numerical columns\n",
    "df_filtered[\"Transfer Fee\"].describe()"
   ]
  },
  {
   "cell_type": "code",
   "execution_count": 14,
   "metadata": {
    "id": "b2kHYsZ3C9gh"
   },
   "outputs": [],
   "source": [
    "# \"Transfer Fee is treated as String so convert it to Numerical\"\n",
    "df_filtered[\"Transfer Fee\"] = pd.to_numeric(\n",
    "    df_filtered[\"Transfer Fee\"], errors=\"coerce\"\n",
    ")"
   ]
  },
  {
   "cell_type": "code",
   "execution_count": 15,
   "metadata": {
    "colab": {
     "base_uri": "https://localhost:8080/"
    },
    "id": "cnau7NENGDe_",
    "outputId": "4d8a7d67-a881-464d-f7a5-17d292a30b8c"
   },
   "outputs": [
    {
     "name": "stdout",
     "output_type": "stream",
     "text": [
      "<class 'pandas.core.frame.DataFrame'>\n",
      "Index: 238 entries, 189 to 487\n",
      "Data columns (total 8 columns):\n",
      " #   Column         Non-Null Count  Dtype  \n",
      "---  ------         --------------  -----  \n",
      " 0   Player Name    238 non-null    object \n",
      " 1   Transfer Fee   238 non-null    float64\n",
      " 2   Season         238 non-null    object \n",
      " 3   From (Club)    238 non-null    object \n",
      " 4   To (Club)      238 non-null    object \n",
      " 5   From (League)  238 non-null    object \n",
      " 6   To (League)    238 non-null    object \n",
      " 7   Position       238 non-null    object \n",
      "dtypes: float64(1), object(7)\n",
      "memory usage: 16.7+ KB\n"
     ]
    }
   ],
   "source": [
    "# Check if it's Numerical now\n",
    "df_filtered.info()"
   ]
  },
  {
   "cell_type": "code",
   "execution_count": 16,
   "metadata": {
    "colab": {
     "base_uri": "https://localhost:8080/",
     "height": 335
    },
    "id": "qgj2SmZ9DP_9",
    "outputId": "9b175855-f80a-4ec2-c2a1-1347c0f8be06"
   },
   "outputs": [
    {
     "data": {
      "text/plain": [
       "count    238.000000\n",
       "mean      12.284693\n",
       "std       16.413628\n",
       "min        0.000000\n",
       "25%        1.525000\n",
       "50%        7.650000\n",
       "75%       16.420000\n",
       "max      121.000000\n",
       "Name: Transfer Fee, dtype: float64"
      ]
     },
     "execution_count": 16,
     "metadata": {},
     "output_type": "execute_result"
    }
   ],
   "source": [
    "# Recheck the Statitstical Summary\n",
    "df_filtered[\"Transfer Fee\"].describe()"
   ]
  },
  {
   "cell_type": "code",
   "execution_count": 22,
   "metadata": {
    "id": "GU571cmyGP7P"
   },
   "outputs": [],
   "source": [
    "# Save the cleaned version in a new file\n",
    "df_filtered.to_csv(\"C:/Users/User/ET6-CDSP-group-23-repo/1_datasets/Transfer_Dataset.cleaned.csv\", index=False)"
   ]
  },
  {
   "cell_type": "code",
   "execution_count": null,
   "metadata": {},
   "outputs": [],
   "source": []
  }
 ],
 "metadata": {
  "colab": {
   "provenance": []
  },
  "kernelspec": {
   "display_name": "Python 3",
   "name": "python3"
  },
  "language_info": {
   "codemirror_mode": {
    "name": "ipython",
    "version": 3
   },
   "file_extension": ".py",
   "mimetype": "text/x-python",
   "name": "python",
   "nbconvert_exporter": "python",
   "pygments_lexer": "ipython3",
   "version": "3.12.5"
  }
 },
 "nbformat": 4,
 "nbformat_minor": 0
}

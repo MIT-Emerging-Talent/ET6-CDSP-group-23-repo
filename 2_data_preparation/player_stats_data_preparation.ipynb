{
  "cells": [
    {
      "cell_type": "markdown",
      "metadata": {
        "id": "AfmORzFaGK4d"
      },
      "source": [
        "# **Data Cleaning and Preperation for \"player_stats.raw.csv\" dataset.**"
      ]
    },
    {
      "cell_type": "code",
      "execution_count": 2,
      "metadata": {
        "id": "IUP5IUj1KXXy"
      },
      "outputs": [],
      "source": [
        "# 1. Import Libraries\n",
        "import pandas as pd"
      ]
    },
    {
      "cell_type": "code",
      "execution_count": 3,
      "metadata": {
        "id": "tk-A7AKxK_w5"
      },
      "outputs": [],
      "source": [
        "\n",
        "#  2. Load Dataset\n",
        "file_path = \"/workspaces/ET6-CDSP-group-23-repo/1_datasets/player_stats_data.raw.csv\"  # the path of the data\n",
        "df = pd.read_csv(file_path)\n"
      ]
    },
    {
      "cell_type": "code",
      "execution_count": 4,
      "metadata": {
        "id": "WYK16-OSQzNI"
      },
      "outputs": [],
      "source": [
        "# 3. Remove duplicate rows\n",
        "df = df.drop_duplicates()"
      ]
    },
    {
      "cell_type": "code",
      "execution_count": 5,
      "metadata": {
        "id": "bZ79a3DGLT0K"
      },
      "outputs": [],
      "source": [
        "#  4. Drop Useless or Redundant Columns\n",
        "#  'URL' is not useful for analysis\n",
        "df.drop(columns=['URL'], inplace=True)"
      ]
    },
    {
      "cell_type": "code",
      "execution_count": 10,
      "metadata": {
        "id": "GE_0xONmLTlY"
      },
      "outputs": [],
      "source": [
        "# 5. Ensure Height is float and in meters (already the case)\n",
        "df['Height'] = pd.to_numeric(df['Height'], errors='coerce')"
      ]
    },
    {
      "cell_type": "code",
      "execution_count": 12,
      "metadata": {
        "id": "KB-TqFqNLTdG"
      },
      "outputs": [],
      "source": [
        "# 6. Clean market value - remove € and convert to numeric (in millions)\n",
        "df['Market value'] = df['Market value'].astype(str).str.replace('€', '', regex=False).str.replace('M', '', regex=False)\n",
        "df['Market value'] = pd.to_numeric(df['Market value'], errors='coerce')"
      ]
    },
    {
      "cell_type": "code",
      "execution_count": 13,
      "metadata": {
        "id": "jzF1TDDLLTVX"
      },
      "outputs": [],
      "source": [
        "# 7. Convert percentage columns to numeric (divide by 100)\n",
        "percentage_cols = [col for col in df.columns if '%' in col]\n",
        "for col in percentage_cols:\n",
        "    df[col] = df[col].str.replace('%', '').astype(float) / 100\n",
        "    df = df.rename(columns={col: col.replace(' %', '')})"
      ]
    },
    {
      "cell_type": "code",
      "execution_count": 14,
      "metadata": {
        "id": "a_xNeug8R1K9"
      },
      "outputs": [],
      "source": [
        "# 8. Clean numeric columns with commas (like \"1,000\" to 1000)\n",
        "numeric_cols = df.select_dtypes(include=['object']).columns\n",
        "for col in numeric_cols:\n",
        "    df[col] = df[col].str.replace(',', '').astype(float, errors='ignore')"
      ]
    },
    {
      "cell_type": "code",
      "execution_count": 15,
      "metadata": {
        "colab": {
          "base_uri": "https://localhost:8080/"
        },
        "id": "e2qZZ0SxR49c",
        "outputId": "1ec436d3-ff00-4c05-9e31-a89b9c653142"
      },
      "outputs": [
        {
          "name": "stderr",
          "output_type": "stream",
          "text": [
            "/tmp/ipykernel_50605/3311399802.py:4: FutureWarning: A value is trying to be set on a copy of a DataFrame or Series through chained assignment using an inplace method.\n",
            "The behavior will change in pandas 3.0. This inplace method will never work because the intermediate object on which we are setting values always behaves as a copy.\n",
            "\n",
            "For example, when doing 'df[col].method(value, inplace=True)', try using 'df.method({col: value}, inplace=True)' or df[col] = df[col].method(value) instead, to perform the operation inplace on the original object.\n",
            "\n",
            "\n",
            "  df[col].fillna(df[col].mean(), inplace=True)\n",
            "/tmp/ipykernel_50605/3311399802.py:4: SettingWithCopyWarning: \n",
            "A value is trying to be set on a copy of a slice from a DataFrame\n",
            "\n",
            "See the caveats in the documentation: https://pandas.pydata.org/pandas-docs/stable/user_guide/indexing.html#returning-a-view-versus-a-copy\n",
            "  df[col].fillna(df[col].mean(), inplace=True)\n"
          ]
        }
      ],
      "source": [
        "# 9. Fill missing numeric values with 0 (or you could use mean/median)\n",
        "numeric_cols = df.select_dtypes(include=['number']).columns\n",
        "for col in numeric_cols:\n",
        "    df[col].fillna(df[col].mean(), inplace=True)"
      ]
    },
    {
      "cell_type": "code",
      "execution_count": 16,
      "metadata": {
        "id": "Hjow021oLTNW"
      },
      "outputs": [],
      "source": [
        "# 10. Standardize date format in \"Birth Date\" column\n",
        "df['Birth Date'] = pd.to_datetime(df['Birth Date'], errors='coerce')"
      ]
    },
    {
      "cell_type": "code",
      "execution_count": 17,
      "metadata": {
        "id": "8lzXWCsGSv2O"
      },
      "outputs": [],
      "source": [
        "# 11. Clean preferred foot - standardize values\n",
        "df['Preferred foot'] = df['Preferred foot'].str.capitalize()"
      ]
    },
    {
      "cell_type": "code",
      "execution_count": 18,
      "metadata": {
        "id": "WLsJzBGqLTsg"
      },
      "outputs": [],
      "source": [
        "#  5. Rename Columns (Optional for easier access)\n",
        "df.rename(columns=lambda x: x.strip().lower().replace(' ', '_').replace('-', '_'), inplace=True)"
      ]
    },
    {
      "cell_type": "code",
      "execution_count": 19,
      "metadata": {
        "colab": {
          "base_uri": "https://localhost:8080/"
        },
        "id": "L_CiKv8sLS8-",
        "outputId": "b2ee3186-c9d7-449d-8f24-6077902fc81d"
      },
      "outputs": [
        {
          "name": "stdout",
          "output_type": "stream",
          "text": [
            "Cleaned DataFrame Shape: (197, 52)\n",
            "Columns: ['birthday', 'birth_date', 'country', 'defending___aerial_duels_won', 'defending___aerial_duels_won', 'defending___blocked', 'defending___dribbled_past', 'defending___duels_won', 'defending___duels_won', 'defending___fouls_committed', 'defending___interceptions', 'defending___penalties_conceded', 'defending___possession_won_final_3rd', 'defending___recoveries', 'defending___tackles_won', 'defending___tackles_won', 'discipline___red_cards', 'discipline___yellow_cards', 'height', 'market_value', 'passing___accurate_long_balls', 'passing___assists', 'passing___chances_created', 'passing___cross_accuracy', 'passing___expected_assists_(xa)', 'passing___long_ball_accuracy', 'passing___pass_accuracy', 'passing___successful_crosses', 'passing___successful_passes', 'possession___dispossessed', 'possession___dribble_success', 'possession___fouls_won', 'possession___penalties_awarded', 'possession___successful_dribbles', 'possession___touches', 'possession___touches_in_opposition_box', 'preferred_foot', 'shirt', 'shootingrank___expected_goals_(xg)', 'shootingrank___goals', 'shootingrank___non_penalty_xg', 'shootingrank___penalty_goals', 'shootingrank___shots', 'shootingrank___shots_on_target', 'trait___aerial_duels_won', 'trait___chances_created', 'trait___defensive_actions', 'trait___goals', 'trait___shot_attempts', 'trait___touches', 'shootingrank___xg_on_target_(xgot)', 'minutes_played']\n",
            "Remaining Nulls:\n",
            " birthday                        197\n",
            "birth_date                       42\n",
            "defending___aerial_duels_won      9\n",
            "defending___aerial_duels_won      9\n",
            "defending___duels_won             2\n",
            "defending___duels_won             2\n",
            "defending___tackles_won           7\n",
            "defending___tackles_won           7\n",
            "passing___cross_accuracy         53\n",
            "passing___long_ball_accuracy     10\n",
            "passing___pass_accuracy           2\n",
            "possession___dribble_success     17\n",
            "preferred_foot                    1\n",
            "trait___aerial_duels_won         11\n",
            "trait___chances_created          11\n",
            "trait___defensive_actions        11\n",
            "trait___goals                    11\n",
            "trait___shot_attempts            11\n",
            "trait___touches                  11\n",
            "dtype: int64\n"
          ]
        }
      ],
      "source": [
        "# 12. Final Inspection\n",
        "print(\"Cleaned DataFrame Shape:\", df.shape)\n",
        "print(\"Columns:\", df.columns.tolist())\n",
        "print(\"Remaining Nulls:\\n\", df.isnull().sum()[df.isnull().sum() > 0])"
      ]
    },
    {
      "cell_type": "code",
      "execution_count": 35,
      "metadata": {
        "colab": {
          "base_uri": "https://localhost:8080/"
        },
        "id": "mLRoXH-LLSx-",
        "outputId": "c644b2e0-659f-49d8-f50c-a98e0bd32b07"
      },
      "outputs": [
        {
          "name": "stdout",
          "output_type": "stream",
          "text": [
            "Data cleaning complete. Cleaned data saved to 'player_stats_data_clean.csv'\n"
          ]
        }
      ],
      "source": [
        "# Save cleaned data to new CSV file\n",
        "df.to_csv('player_stats_data_clean.csv', index=False)\n",
        "\n",
        "print(\"Data cleaning complete. Cleaned data saved to 'player_stats_data_clean.csv'\")"
      ]
    },
    {
      "cell_type": "code",
      "execution_count": null,
      "metadata": {
        "id": "Qm6NrFHBLAEo"
      },
      "outputs": [],
      "source": []
    }
  ],
  "metadata": {
    "colab": {
      "provenance": []
    },
    "kernelspec": {
      "display_name": "Python 3",
      "name": "python3"
    },
    "language_info": {
      "codemirror_mode": {
        "name": "ipython",
        "version": 3
      },
      "file_extension": ".py",
      "mimetype": "text/x-python",
      "name": "python",
      "nbconvert_exporter": "python",
      "pygments_lexer": "ipython3",
      "version": "3.12.1"
    }
  },
  "nbformat": 4,
  "nbformat_minor": 0
}
